{
 "cells": [
  {
   "cell_type": "markdown",
   "metadata": {},
   "source": [
    "- initializing our libraries\n",
    "- note that the data is only for females, as we can find that there is a column in the data is called number of pregnancies"
   ]
  },
  {
   "cell_type": "code",
   "execution_count": 1,
   "metadata": {},
   "outputs": [],
   "source": [
    "import numpy as np # for numpy arrays\n",
    "import pandas as pd # to structure the data\n",
    "from sklearn.preprocessing import StandardScaler # to standardize our data\n",
    "from sklearn.model_selection import train_test_split # to split our data into training and validation\n",
    "from sklearn import svm\n",
    "from sklearn.metrics import accuracy_score"
   ]
  },
  {
   "cell_type": "code",
   "execution_count": null,
   "metadata": {},
   "outputs": [],
   "source": [
    "# loading the dataset into pandas \n",
    "diabetes_dataset = pd.read_csv(\"../Diabetes-Prediction/Dataset/diabetes.csv\")\n"
   ]
  }
 ],
 "metadata": {
  "kernelspec": {
   "display_name": "myenv",
   "language": "python",
   "name": "python3"
  },
  "language_info": {
   "codemirror_mode": {
    "name": "ipython",
    "version": 3
   },
   "file_extension": ".py",
   "mimetype": "text/x-python",
   "name": "python",
   "nbconvert_exporter": "python",
   "pygments_lexer": "ipython3",
   "version": "3.12.2"
  }
 },
 "nbformat": 4,
 "nbformat_minor": 2
}
